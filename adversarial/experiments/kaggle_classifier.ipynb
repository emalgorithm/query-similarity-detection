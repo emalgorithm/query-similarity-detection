{
 "cells": [
  {
   "cell_type": "code",
   "execution_count": 33,
   "metadata": {},
   "outputs": [
    {
     "name": "stdout",
     "output_type": "stream",
     "text": [
      "The autoreload extension is already loaded. To reload it, use:\n",
      "  %reload_ext autoreload\n"
     ]
    }
   ],
   "source": [
    "from util import get_balanced_data\n",
    "from word2vec import Word2Vec\n",
    "from glove_synonyms import GloveSynonyms\n",
    "from adversarial_algos import adversarial_white_box_change\n",
    "from kaggle_model import KaggleModel\n",
    "from text_processor import TextProcessor\n",
    "from words_in_common_model import WordsInCommonModel\n",
    "import numpy as np\n",
    "\n",
    "%load_ext autoreload\n",
    "\n",
    "%autoreload 2"
   ]
  },
  {
   "cell_type": "code",
   "execution_count": 2,
   "metadata": {},
   "outputs": [
    {
     "name": "stdout",
     "output_type": "stream",
     "text": [
      "We have 298526 positive samples\n",
      "We have 298526 negative samples\n"
     ]
    }
   ],
   "source": [
    "X_train, X_test, y_train, y_test = get_balanced_data()"
   ]
  },
  {
   "cell_type": "code",
   "execution_count": 3,
   "metadata": {},
   "outputs": [
    {
     "name": "stdout",
     "output_type": "stream",
     "text": [
      "Loading Glove Model\n",
      "Done. 65713  words loaded!\n"
     ]
    }
   ],
   "source": [
    "glove = GloveSynonyms()"
   ]
  },
  {
   "cell_type": "code",
   "execution_count": 4,
   "metadata": {},
   "outputs": [],
   "source": [
    "tp = TextProcessor()"
   ]
  },
  {
   "cell_type": "code",
   "execution_count": null,
   "metadata": {},
   "outputs": [],
   "source": [
    "model = KaggleModel()"
   ]
  },
  {
   "cell_type": "code",
   "execution_count": null,
   "metadata": {},
   "outputs": [],
   "source": [
    "t = X_test[10:20]"
   ]
  },
  {
   "cell_type": "code",
   "execution_count": 20,
   "metadata": {},
   "outputs": [],
   "source": [
    "similar_rows = (model.predict(X_test) > 0.5)[:, 0]\n",
    "X_test = X_test[similar_rows]"
   ]
  },
  {
   "cell_type": "code",
   "execution_count": 22,
   "metadata": {},
   "outputs": [
    {
     "name": "stdout",
     "output_type": "stream",
     "text": [
      "initial q2: How did Batman v Superman: Dawn of Justice get greenlit? What's the backstory of how the movie got made?\n",
      "modified q2: How did Batman vs Superman: Dawn of Justice get greenlit? What's the backstory of how the movie got made?\n",
      "initial q2: What is the best mosquito repellent?\n",
      "modified q2: What is the best gnat repulsive?\n",
      "initial q2: What do you feel is the purpose of life?\n",
      "modified q2: What do you feel is the aim of vie?\n",
      "initial q2: How do I become software developer in india?\n",
      "modified q2: How do I become software promoter in india?\n",
      "initial q2: What is the smallest known star in the universe? How is this known?\n",
      "modified q2: What is the littlest known star in the universe? How is this known?\n",
      "initial q2: How can I write an essay efficiently?\n",
      "modified q2: How can I writing an tests effectively?\n",
      "initial q2: Which color top suits on purple pants?\n",
      "modified q2: Which color topped suits on purple pants?\n",
      "initial q2: Who was the first president esident of India?\n",
      "modified q2: Who was the first chairwoman esident of India?\n",
      "initial q2: What are your favorite fantasy novels? Why?\n",
      "modified q2: What are your favorite fantasy storybooks? Why?\n",
      "initial q2: Is war with Russia imminent?\n",
      "modified q2: Is warfare with Russia impending?\n",
      "initial q2: How can I recover deleted photos from a keepsafe?\n",
      "modified q2: How can I recoup eliminated photos from a keepsafe?\n",
      "initial q2: Which comes first, chicken or egg?\n",
      "modified q2: Which comes first, pollo or egg?\n",
      "initial q2: What are the subfields of psychology?\n",
      "modified q2: What are the subfields of psyche?\n",
      "initial q2: What is the function of nerve cells?\n",
      "modified q2: What is the function of audacity cell?\n",
      "initial q2: What can young programmers do to avoid backpain issues before 20yrs experience?\n",
      "modified q2: What can youngster programmers do to avoid backpain issues before 20yrs experience?\n",
      "initial q2: Who is the creator of universe?\n",
      "modified q2: Who is the designer of universe?\n",
      "initial q2: What is the current state of Gay rights in India? Is it legal or illegal or legal in Delhi only?\n",
      "modified q2: What is the currents state of Gay rights in India? Is it legal or illegal or legal in Delhi only?\n",
      "initial q2: What are the trickiest questions asked in an interview?\n",
      "modified q2: What are the trickiest questions requested in an interviewing?\n",
      "initial q2: What is cohesion tension theory?\n",
      "modified q2: What is coherence tension theory?\n",
      "initial q2: Have you ever asked a question despite knowing its answer?\n",
      "modified q2: Have you ever requested a question despite knowing its answer?\n",
      "initial q2: If you spin, does the whole universe spin at faster than light speed?\n",
      "modified q2: If you spinning, does the whole universe spin at faster than light speed?\n",
      "initial q2: What are the major differences between Darwin and Lamarck's theories?\n",
      "modified q2: What are the major difference between Darwin and Lamarck's theory?\n",
      "initial q2: What are good programming languages to learn in 2016?\n",
      "modified q2: What are good programming tongues to learn in 2016?\n",
      "initial q2: When u smoke crystal meth how long will it be to be able to pass a urine drug test?\n",
      "modified q2: When u smoke crystal methamphetamine how long will it be to be able to passage a urine drug test?\n",
      "initial q2: How can I score good marks in class 12th board exams?\n",
      "modified q2: How can I scoring good marks in class 12th councils exam?\n",
      "initial q2: What is the best way to break the ice with someone to start a conversation?\n",
      "modified q2: What is the better way to intermission the ice with someone to start a conversation?\n"
     ]
    }
   ],
   "source": [
    "results = []\n",
    "total = 0\n",
    "qs = []\n",
    "\n",
    "for i in range(50):\n",
    "    q1 = X_test[-i, 0]\n",
    "    q2 = X_test[-i, 1]\n",
    "    if model.predict_single(q1, q2) > 0.5:\n",
    "        total += 1\n",
    "        s, new_q1, new_q2 = adversarial_white_box_change(q1, q2, model, tp, glove)\n",
    "        if s:\n",
    "            qs.append((q2, new_q2))\n",
    "            print(\"initial q2: {}\".format(q2))            \n",
    "            print(\"modified q2: {}\".format(new_q2))"
   ]
  },
  {
   "cell_type": "code",
   "execution_count": 23,
   "metadata": {},
   "outputs": [
    {
     "data": {
      "text/plain": [
       "[(\"How did Batman v Superman: Dawn of Justice get greenlit? What's the backstory of how the movie got made?\",\n",
       "  \"How did Batman vs Superman: Dawn of Justice get greenlit? What's the backstory of how the movie got made?\"),\n",
       " ('What is the best mosquito repellent?', 'What is the best gnat repulsive?'),\n",
       " ('What do you feel is the purpose of life?',\n",
       "  'What do you feel is the aim of vie?'),\n",
       " ('How do I become software developer in india?',\n",
       "  'How do I become software promoter in india?'),\n",
       " ('What is the smallest known star in the universe? How is this known?',\n",
       "  'What is the littlest known star in the universe? How is this known?'),\n",
       " ('How can I write an essay efficiently?',\n",
       "  'How can I writing an tests effectively?'),\n",
       " ('Which color top suits on purple pants?',\n",
       "  'Which color topped suits on purple pants?'),\n",
       " ('Who was the first president esident of India?',\n",
       "  'Who was the first chairwoman esident of India?'),\n",
       " ('What are your favorite fantasy novels? Why?',\n",
       "  'What are your favorite fantasy storybooks? Why?'),\n",
       " ('Is war with Russia imminent?', 'Is warfare with Russia impending?')]"
      ]
     },
     "execution_count": 23,
     "metadata": {},
     "output_type": "execute_result"
    }
   ],
   "source": [
    "qs[:10]"
   ]
  },
  {
   "cell_type": "code",
   "execution_count": 28,
   "metadata": {},
   "outputs": [
    {
     "data": {
      "text/plain": [
       "[('How can I recover deleted photos from a keepsafe?',\n",
       "  'How can I recoup eliminated photos from a keepsafe?'),\n",
       " ('Which comes first, chicken or egg?', 'Which comes first, pollo or egg?'),\n",
       " ('What are the subfields of psychology?',\n",
       "  'What are the subfields of psyche?'),\n",
       " ('What is the function of nerve cells?',\n",
       "  'What is the function of audacity cell?'),\n",
       " ('What can young programmers do to avoid backpain issues before 20yrs experience?',\n",
       "  'What can youngster programmers do to avoid backpain issues before 20yrs experience?'),\n",
       " ('Who is the creator of universe?', 'Who is the designer of universe?'),\n",
       " ('What is the current state of Gay rights in India? Is it legal or illegal or legal in Delhi only?',\n",
       "  'What is the currents state of Gay rights in India? Is it legal or illegal or legal in Delhi only?'),\n",
       " ('What are the trickiest questions asked in an interview?',\n",
       "  'What are the trickiest questions requested in an interviewing?'),\n",
       " ('What is cohesion tension theory?', 'What is coherence tension theory?'),\n",
       " ('Have you ever asked a question despite knowing its answer?',\n",
       "  'Have you ever requested a question despite knowing its answer?')]"
      ]
     },
     "execution_count": 28,
     "metadata": {},
     "output_type": "execute_result"
    }
   ],
   "source": [
    "qs[10:20]"
   ]
  },
  {
   "cell_type": "code",
   "execution_count": 31,
   "metadata": {},
   "outputs": [
    {
     "data": {
      "text/plain": [
       "[('If you spin, does the whole universe spin at faster than light speed?',\n",
       "  'If you spinning, does the whole universe spin at faster than light speed?'),\n",
       " (\"What are the major differences between Darwin and Lamarck's theories?\",\n",
       "  \"What are the major difference between Darwin and Lamarck's theory?\"),\n",
       " ('What are good programming languages to learn in 2016?',\n",
       "  'What are good programming tongues to learn in 2016?'),\n",
       " ('When u smoke crystal meth how long will it be to be able to pass a urine drug test?',\n",
       "  'When u smoke crystal methamphetamine how long will it be to be able to passage a urine drug test?'),\n",
       " ('How can I score good marks in class 12th board exams?',\n",
       "  'How can I scoring good marks in class 12th councils exam?'),\n",
       " ('What is the best way to break the ice with someone to start a conversation?',\n",
       "  'What is the better way to intermission the ice with someone to start a conversation?')]"
      ]
     },
     "execution_count": 31,
     "metadata": {},
     "output_type": "execute_result"
    }
   ],
   "source": [
    "qs[20:30]"
   ]
  },
  {
   "cell_type": "code",
   "execution_count": 35,
   "metadata": {},
   "outputs": [],
   "source": [
    "# votes go from 1 to 5, 1 being completely different and 5 being exactly same meaning\n",
    "similarity = [5, 4, 5, 2, 5, 2, 4, 5, 5, 5, 3, 1, 5, 5, 5, 5, 2, 5, 5, 5, 3, 3, 3, 5]\n",
    "correctness = [5, 1, 5, 5, 3, 4, 5, 5, 5, 5, 1, 5, 5, 5, 5, 3, 4, 4, 4, 4, 4, 4, 4, 3, 3]"
   ]
  },
  {
   "cell_type": "code",
   "execution_count": 36,
   "metadata": {},
   "outputs": [
    {
     "data": {
      "text/plain": [
       "4.041666666666667"
      ]
     },
     "execution_count": 36,
     "metadata": {},
     "output_type": "execute_result"
    }
   ],
   "source": [
    "np.mean(similarity)"
   ]
  },
  {
   "cell_type": "code",
   "execution_count": 38,
   "metadata": {},
   "outputs": [
    {
     "data": {
      "text/plain": [
       "4.04"
      ]
     },
     "execution_count": 38,
     "metadata": {},
     "output_type": "execute_result"
    }
   ],
   "source": [
    "np.mean(correctness)"
   ]
  },
  {
   "cell_type": "code",
   "execution_count": null,
   "metadata": {},
   "outputs": [],
   "source": []
  }
 ],
 "metadata": {
  "kernelspec": {
   "display_name": "Python 3",
   "language": "python",
   "name": "python3"
  },
  "language_info": {
   "codemirror_mode": {
    "name": "ipython",
    "version": 3
   },
   "file_extension": ".py",
   "mimetype": "text/x-python",
   "name": "python",
   "nbconvert_exporter": "python",
   "pygments_lexer": "ipython3",
   "version": "3.6.4"
  }
 },
 "nbformat": 4,
 "nbformat_minor": 2
}
