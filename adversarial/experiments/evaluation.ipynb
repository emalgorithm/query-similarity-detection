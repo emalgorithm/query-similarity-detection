{
 "cells": [
  {
   "cell_type": "code",
   "execution_count": 1,
   "metadata": {},
   "outputs": [
    {
     "name": "stderr",
     "output_type": "stream",
     "text": [
      "Using TensorFlow backend.\n"
     ]
    }
   ],
   "source": [
    "from util.util import get_balanced_data\n",
    "from word_similarity.word2vec import Word2Vec\n",
    "from word_similarity.glove_synonyms import GloveSynonyms\n",
    "from algorithms.white_box_adversarial_algorithm import WhiteBoxAdversarialAlgorithm\n",
    "from models.kaggle_model import KaggleModel\n",
    "from util.text_processor import TextProcessor\n",
    "from models.words_in_common_model import WordsInCommonModel\n",
    "\n",
    "%load_ext autoreload\n",
    "\n",
    "%autoreload 2"
   ]
  },
  {
   "cell_type": "code",
   "execution_count": 2,
   "metadata": {},
   "outputs": [
    {
     "name": "stdout",
     "output_type": "stream",
     "text": [
      "We have 298526 positive samples\n",
      "We have 298526 negative samples\n"
     ]
    }
   ],
   "source": [
    "X_train, X_test, y_train, y_test = get_balanced_data()"
   ]
  },
  {
   "cell_type": "code",
   "execution_count": 3,
   "metadata": {},
   "outputs": [
    {
     "name": "stdout",
     "output_type": "stream",
     "text": [
      "Loading Glove Model\n",
      "Done. 65713  words loaded!\n"
     ]
    }
   ],
   "source": [
    "glove = GloveSynonyms()"
   ]
  },
  {
   "cell_type": "code",
   "execution_count": 4,
   "metadata": {},
   "outputs": [],
   "source": [
    "tp = TextProcessor()"
   ]
  },
  {
   "cell_type": "code",
   "execution_count": null,
   "metadata": {},
   "outputs": [],
   "source": []
  },
  {
   "cell_type": "code",
   "execution_count": 5,
   "metadata": {},
   "outputs": [],
   "source": [
    "def evaluate(white_box, model, n=1000):\n",
    "    results = []\n",
    "    total = 0\n",
    "\n",
    "    for i in range(n):\n",
    "        q1 = X_test[-i, 0]\n",
    "        q2 = X_test[-i, 1]\n",
    "        if model.predict_single(q1, q2) > 0.5:\n",
    "            total += 1\n",
    "            s, new_q1, new_q2 = white_box.attack(q1, q2)\n",
    "            print(i)\n",
    "            results.append(s)\n",
    "            \n",
    "    return sum(results) / float(total) "
   ]
  },
  {
   "cell_type": "markdown",
   "metadata": {},
   "source": [
    "## Evaluate Words in common model"
   ]
  },
  {
   "cell_type": "code",
   "execution_count": null,
   "metadata": {},
   "outputs": [],
   "source": [
    "wic_model = WordsInCommonModel()"
   ]
  },
  {
   "cell_type": "code",
   "execution_count": null,
   "metadata": {},
   "outputs": [],
   "source": [
    "white_box = WhiteBoxAdversarialAlgorithm(wic_model, tp, glove)"
   ]
  },
  {
   "cell_type": "code",
   "execution_count": null,
   "metadata": {},
   "outputs": [],
   "source": [
    "evaluate(white_box, wic_model, n=300)"
   ]
  },
  {
   "cell_type": "markdown",
   "metadata": {},
   "source": [
    "## Evaluate Kaggle Model"
   ]
  },
  {
   "cell_type": "code",
   "execution_count": 6,
   "metadata": {},
   "outputs": [],
   "source": [
    "kaggle_model = KaggleModel()"
   ]
  },
  {
   "cell_type": "code",
   "execution_count": 7,
   "metadata": {},
   "outputs": [],
   "source": [
    "white_box = WhiteBoxAdversarialAlgorithm(kaggle_model, tp, glove)"
   ]
  },
  {
   "cell_type": "code",
   "execution_count": 8,
   "metadata": {},
   "outputs": [
    {
     "name": "stdout",
     "output_type": "stream",
     "text": [
      "1\n",
      "4\n",
      "5\n",
      "6\n",
      "9\n",
      "10\n",
      "12\n",
      "14\n",
      "18\n",
      "21\n",
      "26\n",
      "27\n",
      "30\n",
      "32\n",
      "33\n",
      "34\n",
      "35\n",
      "37\n",
      "42\n",
      "44\n",
      "45\n",
      "47\n",
      "48\n",
      "50\n",
      "51\n",
      "53\n",
      "55\n",
      "56\n",
      "57\n",
      "60\n",
      "61\n",
      "72\n",
      "73\n",
      "76\n",
      "77\n",
      "81\n",
      "83\n",
      "84\n",
      "88\n",
      "89\n",
      "90\n",
      "91\n",
      "92\n",
      "93\n",
      "95\n",
      "96\n",
      "97\n",
      "99\n",
      "105\n",
      "106\n",
      "111\n",
      "112\n",
      "114\n",
      "119\n",
      "121\n",
      "122\n",
      "123\n",
      "124\n",
      "127\n",
      "129\n",
      "130\n",
      "136\n",
      "138\n",
      "139\n",
      "141\n",
      "142\n",
      "145\n",
      "148\n",
      "152\n",
      "156\n",
      "158\n",
      "159\n",
      "160\n",
      "164\n",
      "165\n",
      "166\n",
      "168\n",
      "170\n",
      "173\n",
      "174\n",
      "181\n",
      "183\n",
      "187\n",
      "188\n",
      "192\n",
      "193\n",
      "198\n",
      "201\n",
      "206\n",
      "208\n",
      "209\n",
      "211\n",
      "213\n",
      "215\n",
      "216\n",
      "217\n",
      "219\n",
      "220\n",
      "221\n",
      "222\n",
      "223\n",
      "225\n",
      "227\n",
      "235\n",
      "236\n",
      "238\n",
      "239\n",
      "241\n",
      "243\n",
      "249\n",
      "255\n",
      "256\n",
      "257\n",
      "258\n",
      "259\n",
      "266\n",
      "269\n",
      "273\n",
      "275\n",
      "276\n",
      "278\n",
      "279\n",
      "280\n",
      "281\n",
      "282\n",
      "285\n",
      "286\n",
      "287\n",
      "288\n",
      "289\n",
      "290\n",
      "292\n",
      "295\n",
      "296\n"
     ]
    },
    {
     "data": {
      "text/plain": [
       "0.4925373134328358"
      ]
     },
     "execution_count": 8,
     "metadata": {},
     "output_type": "execute_result"
    }
   ],
   "source": [
    "evaluate(white_box, kaggle_model, n=300)"
   ]
  },
  {
   "cell_type": "code",
   "execution_count": null,
   "metadata": {},
   "outputs": [],
   "source": []
  }
 ],
 "metadata": {
  "kernelspec": {
   "display_name": "Python 3",
   "language": "python",
   "name": "python3"
  },
  "language_info": {
   "codemirror_mode": {
    "name": "ipython",
    "version": 3
   },
   "file_extension": ".py",
   "mimetype": "text/x-python",
   "name": "python",
   "nbconvert_exporter": "python",
   "pygments_lexer": "ipython3",
   "version": "3.6.4"
  }
 },
 "nbformat": 4,
 "nbformat_minor": 2
}
