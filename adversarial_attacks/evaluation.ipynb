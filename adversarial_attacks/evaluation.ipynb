{
 "cells": [
  {
   "cell_type": "code",
   "execution_count": 1,
   "metadata": {},
   "outputs": [
    {
     "name": "stderr",
     "output_type": "stream",
     "text": [
      "Using TensorFlow backend.\n"
     ]
    }
   ],
   "source": [
    "from util import get_balanced_data\n",
    "from word2vec import Word2Vec\n",
    "from glove_synonyms import GloveSynonyms\n",
    "from adversarial_algos import adversarial_white_box_change\n",
    "from kaggle_model import KaggleModel\n",
    "from text_processor import TextProcessor\n",
    "from words_in_common_model import WordsInCommonModel\n",
    "\n",
    "%load_ext autoreload\n",
    "\n",
    "%autoreload 2"
   ]
  },
  {
   "cell_type": "code",
   "execution_count": 2,
   "metadata": {},
   "outputs": [
    {
     "name": "stdout",
     "output_type": "stream",
     "text": [
      "We have 298526 positive samples\n",
      "We have 298526 negative samples\n"
     ]
    }
   ],
   "source": [
    "X_train, X_test, y_train, y_test = get_balanced_data()"
   ]
  },
  {
   "cell_type": "code",
   "execution_count": 3,
   "metadata": {},
   "outputs": [
    {
     "name": "stdout",
     "output_type": "stream",
     "text": [
      "Loading Glove Model\n",
      "Done. 65713  words loaded!\n"
     ]
    }
   ],
   "source": [
    "glove = GloveSynonyms()"
   ]
  },
  {
   "cell_type": "code",
   "execution_count": 4,
   "metadata": {},
   "outputs": [],
   "source": [
    "tp = TextProcessor()"
   ]
  },
  {
   "cell_type": "code",
   "execution_count": 5,
   "metadata": {},
   "outputs": [],
   "source": [
    "def evaluate(model, n=1000):\n",
    "    results = []\n",
    "    total = 0\n",
    "\n",
    "    for i in range(n):\n",
    "        q1 = X_test[-i, 0]\n",
    "        q2 = X_test[-i, 1]\n",
    "        if model.predict_single(q1, q2) > 0.5:\n",
    "            total += 1\n",
    "            print(i)\n",
    "            results.append(adversarial_white_box_change(q1, q2, model, tp, glove, verbose=0))\n",
    "            \n",
    "    return sum(results) / float(total) "
   ]
  },
  {
   "cell_type": "markdown",
   "metadata": {},
   "source": [
    "## Evaluate Words in common model"
   ]
  },
  {
   "cell_type": "code",
   "execution_count": 6,
   "metadata": {},
   "outputs": [],
   "source": [
    "wic_model = WordsInCommonModel()"
   ]
  },
  {
   "cell_type": "code",
   "execution_count": 7,
   "metadata": {},
   "outputs": [
    {
     "name": "stdout",
     "output_type": "stream",
     "text": [
      "0\n",
      "2\n",
      "4\n",
      "5\n",
      "6\n",
      "8\n",
      "9\n",
      "10\n",
      "12\n",
      "15\n",
      "24\n",
      "26\n",
      "27\n",
      "28\n",
      "29\n",
      "32\n",
      "33\n",
      "35\n",
      "36\n",
      "37\n",
      "38\n",
      "42\n",
      "43\n",
      "45\n",
      "47\n",
      "48\n",
      "49\n",
      "53\n",
      "55\n",
      "56\n",
      "57\n",
      "58\n",
      "59\n",
      "60\n",
      "62\n",
      "69\n",
      "72\n",
      "76\n",
      "79\n",
      "81\n",
      "84\n",
      "85\n",
      "87\n",
      "88\n",
      "89\n",
      "90\n",
      "94\n",
      "95\n",
      "96\n",
      "97\n",
      "98\n",
      "105\n",
      "106\n",
      "107\n",
      "111\n",
      "112\n",
      "114\n",
      "118\n",
      "119\n",
      "123\n",
      "124\n",
      "125\n",
      "129\n",
      "137\n",
      "138\n",
      "139\n",
      "141\n",
      "142\n",
      "147\n",
      "149\n",
      "150\n",
      "158\n",
      "163\n",
      "164\n",
      "166\n",
      "173\n",
      "174\n",
      "175\n",
      "177\n",
      "179\n",
      "180\n",
      "185\n",
      "187\n",
      "188\n",
      "191\n",
      "192\n",
      "201\n",
      "206\n",
      "208\n",
      "209\n",
      "210\n",
      "213\n",
      "214\n",
      "215\n",
      "216\n",
      "219\n",
      "220\n",
      "221\n",
      "224\n",
      "227\n",
      "232\n",
      "233\n",
      "235\n",
      "237\n",
      "239\n",
      "241\n",
      "242\n",
      "243\n",
      "250\n",
      "251\n",
      "253\n",
      "256\n",
      "257\n",
      "263\n",
      "264\n",
      "268\n",
      "273\n",
      "275\n",
      "284\n",
      "289\n",
      "291\n",
      "292\n",
      "295\n",
      "298\n"
     ]
    },
    {
     "ename": "TypeError",
     "evalue": "unsupported operand type(s) for +: 'int' and 'tuple'",
     "output_type": "error",
     "traceback": [
      "\u001b[0;31m---------------------------------------------------------------------------\u001b[0m",
      "\u001b[0;31mTypeError\u001b[0m                                 Traceback (most recent call last)",
      "\u001b[0;32m<ipython-input-7-a7e7bee2f160>\u001b[0m in \u001b[0;36m<module>\u001b[0;34m()\u001b[0m\n\u001b[0;32m----> 1\u001b[0;31m \u001b[0mevaluate\u001b[0m\u001b[0;34m(\u001b[0m\u001b[0mwic_model\u001b[0m\u001b[0;34m,\u001b[0m \u001b[0mn\u001b[0m\u001b[0;34m=\u001b[0m\u001b[0;36m300\u001b[0m\u001b[0;34m)\u001b[0m\u001b[0;34m\u001b[0m\u001b[0m\n\u001b[0m",
      "\u001b[0;32m<ipython-input-5-3a8178306767>\u001b[0m in \u001b[0;36mevaluate\u001b[0;34m(model, n)\u001b[0m\n\u001b[1;32m     11\u001b[0m             \u001b[0mresults\u001b[0m\u001b[0;34m.\u001b[0m\u001b[0mappend\u001b[0m\u001b[0;34m(\u001b[0m\u001b[0madversarial_white_box_change\u001b[0m\u001b[0;34m(\u001b[0m\u001b[0mq1\u001b[0m\u001b[0;34m,\u001b[0m \u001b[0mq2\u001b[0m\u001b[0;34m,\u001b[0m \u001b[0mmodel\u001b[0m\u001b[0;34m,\u001b[0m \u001b[0mtp\u001b[0m\u001b[0;34m,\u001b[0m \u001b[0mglove\u001b[0m\u001b[0;34m,\u001b[0m \u001b[0mverbose\u001b[0m\u001b[0;34m=\u001b[0m\u001b[0;36m0\u001b[0m\u001b[0;34m)\u001b[0m\u001b[0;34m)\u001b[0m\u001b[0;34m\u001b[0m\u001b[0m\n\u001b[1;32m     12\u001b[0m \u001b[0;34m\u001b[0m\u001b[0m\n\u001b[0;32m---> 13\u001b[0;31m     \u001b[0;32mreturn\u001b[0m \u001b[0msum\u001b[0m\u001b[0;34m(\u001b[0m\u001b[0mresults\u001b[0m\u001b[0;34m)\u001b[0m \u001b[0;34m/\u001b[0m \u001b[0mfloat\u001b[0m\u001b[0;34m(\u001b[0m\u001b[0mtotal\u001b[0m\u001b[0;34m)\u001b[0m\u001b[0;34m\u001b[0m\u001b[0m\n\u001b[0m",
      "\u001b[0;31mTypeError\u001b[0m: unsupported operand type(s) for +: 'int' and 'tuple'"
     ]
    }
   ],
   "source": [
    "evaluate(wic_model, n=300)"
   ]
  },
  {
   "cell_type": "markdown",
   "metadata": {},
   "source": [
    "## Evaluate Kaggle Model"
   ]
  },
  {
   "cell_type": "code",
   "execution_count": null,
   "metadata": {},
   "outputs": [],
   "source": [
    "kaggle_model = KaggleModel()"
   ]
  },
  {
   "cell_type": "code",
   "execution_count": null,
   "metadata": {},
   "outputs": [],
   "source": [
    "evaluate(kaggle_model, n=300)"
   ]
  }
 ],
 "metadata": {
  "kernelspec": {
   "display_name": "Python 3",
   "language": "python",
   "name": "python3"
  },
  "language_info": {
   "codemirror_mode": {
    "name": "ipython",
    "version": 3
   },
   "file_extension": ".py",
   "mimetype": "text/x-python",
   "name": "python",
   "nbconvert_exporter": "python",
   "pygments_lexer": "ipython3",
   "version": "3.6.4"
  }
 },
 "nbformat": 4,
 "nbformat_minor": 2
}
