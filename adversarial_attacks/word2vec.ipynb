{
 "cells": [
  {
   "cell_type": "code",
   "execution_count": 70,
   "metadata": {},
   "outputs": [],
   "source": [
    "import numpy as np # linear algebra\n",
    "import pandas as pd # data processing, CSV file I/O (e.g. pd.read_csv)\n",
    "import os\n",
    "import gc\n",
    "import matplotlib.pyplot as plt\n",
    "import seaborn as sns\n",
    "%matplotlib inline\n",
    "from sklearn.model_selection import train_test_split\n",
    "from sklearn.metrics import log_loss\n",
    "import gensim\n",
    "from gensim.models.doc2vec import TaggedDocument\n",
    "from gensim.models.doc2vec import Doc2Vec\n",
    "pal = sns.color_palette()\n",
    "import pickle\n",
    "from sklearn.svm import SVR\n",
    "from sklearn.metrics import log_loss\n",
    "import scipy\n",
    "import math\n",
    "\n",
    "\n",
    "from text_processor import TextProcessor"
   ]
  },
  {
   "cell_type": "code",
   "execution_count": 4,
   "metadata": {},
   "outputs": [],
   "source": [
    "tp = TextProcessor()"
   ]
  },
  {
   "cell_type": "markdown",
   "metadata": {},
   "source": [
    "## Load Doc2Vec"
   ]
  },
  {
   "cell_type": "code",
   "execution_count": 5,
   "metadata": {},
   "outputs": [],
   "source": [
    "model = gensim.models.KeyedVectors.load_word2vec_format('./data/GoogleNews-vectors-negative300.bin', binary=True)  "
   ]
  },
  {
   "cell_type": "code",
   "execution_count": 6,
   "metadata": {},
   "outputs": [
    {
     "name": "stderr",
     "output_type": "stream",
     "text": [
      "/home/ec2-user/anaconda3/lib/python3.6/site-packages/ipykernel_launcher.py:1: DeprecationWarning: Call to deprecated `wv` (Attribute will be removed in 4.0.0, use self instead).\n",
      "  \"\"\"Entry point for launching an IPython kernel.\n"
     ]
    },
    {
     "data": {
      "text/plain": [
       "[('man', 0.7664012908935547),\n",
       " ('girl', 0.7494640946388245),\n",
       " ('teenage_girl', 0.7336829900741577),\n",
       " ('teenager', 0.631708562374115),\n",
       " ('lady', 0.6288785934448242),\n",
       " ('teenaged_girl', 0.6141783595085144),\n",
       " ('mother', 0.607630729675293),\n",
       " ('policewoman', 0.6069462299346924),\n",
       " ('boy', 0.5975908041000366),\n",
       " ('Woman', 0.5770983695983887)]"
      ]
     },
     "execution_count": 6,
     "metadata": {},
     "output_type": "execute_result"
    }
   ],
   "source": [
    "model.wv.most_similar(['woman'], topn=10)"
   ]
  },
  {
   "cell_type": "markdown",
   "metadata": {},
   "source": [
    "## Load Data"
   ]
  },
  {
   "cell_type": "code",
   "execution_count": 7,
   "metadata": {},
   "outputs": [
    {
     "name": "stdout",
     "output_type": "stream",
     "text": [
      "The training dataset has shape (404287, 6)\n"
     ]
    },
    {
     "data": {
      "text/html": [
       "<div>\n",
       "<style scoped>\n",
       "    .dataframe tbody tr th:only-of-type {\n",
       "        vertical-align: middle;\n",
       "    }\n",
       "\n",
       "    .dataframe tbody tr th {\n",
       "        vertical-align: top;\n",
       "    }\n",
       "\n",
       "    .dataframe thead th {\n",
       "        text-align: right;\n",
       "    }\n",
       "</style>\n",
       "<table border=\"1\" class=\"dataframe\">\n",
       "  <thead>\n",
       "    <tr style=\"text-align: right;\">\n",
       "      <th></th>\n",
       "      <th>id</th>\n",
       "      <th>qid1</th>\n",
       "      <th>qid2</th>\n",
       "      <th>question1</th>\n",
       "      <th>question2</th>\n",
       "      <th>is_duplicate</th>\n",
       "    </tr>\n",
       "  </thead>\n",
       "  <tbody>\n",
       "    <tr>\n",
       "      <th>0</th>\n",
       "      <td>0</td>\n",
       "      <td>1</td>\n",
       "      <td>2</td>\n",
       "      <td>What is the step by step guide to invest in sh...</td>\n",
       "      <td>What is the step by step guide to invest in sh...</td>\n",
       "      <td>0</td>\n",
       "    </tr>\n",
       "    <tr>\n",
       "      <th>1</th>\n",
       "      <td>1</td>\n",
       "      <td>3</td>\n",
       "      <td>4</td>\n",
       "      <td>What is the story of Kohinoor (Koh-i-Noor) Dia...</td>\n",
       "      <td>What would happen if the Indian government sto...</td>\n",
       "      <td>0</td>\n",
       "    </tr>\n",
       "    <tr>\n",
       "      <th>2</th>\n",
       "      <td>2</td>\n",
       "      <td>5</td>\n",
       "      <td>6</td>\n",
       "      <td>How can I increase the speed of my internet co...</td>\n",
       "      <td>How can Internet speed be increased by hacking...</td>\n",
       "      <td>0</td>\n",
       "    </tr>\n",
       "    <tr>\n",
       "      <th>3</th>\n",
       "      <td>3</td>\n",
       "      <td>7</td>\n",
       "      <td>8</td>\n",
       "      <td>Why am I mentally very lonely? How can I solve...</td>\n",
       "      <td>Find the remainder when [math]23^{24}[/math] i...</td>\n",
       "      <td>0</td>\n",
       "    </tr>\n",
       "    <tr>\n",
       "      <th>4</th>\n",
       "      <td>4</td>\n",
       "      <td>9</td>\n",
       "      <td>10</td>\n",
       "      <td>Which one dissolve in water quikly sugar, salt...</td>\n",
       "      <td>Which fish would survive in salt water?</td>\n",
       "      <td>0</td>\n",
       "    </tr>\n",
       "  </tbody>\n",
       "</table>\n",
       "</div>"
      ],
      "text/plain": [
       "   id  qid1  qid2                                          question1  \\\n",
       "0   0     1     2  What is the step by step guide to invest in sh...   \n",
       "1   1     3     4  What is the story of Kohinoor (Koh-i-Noor) Dia...   \n",
       "2   2     5     6  How can I increase the speed of my internet co...   \n",
       "3   3     7     8  Why am I mentally very lonely? How can I solve...   \n",
       "4   4     9    10  Which one dissolve in water quikly sugar, salt...   \n",
       "\n",
       "                                           question2  is_duplicate  \n",
       "0  What is the step by step guide to invest in sh...             0  \n",
       "1  What would happen if the Indian government sto...             0  \n",
       "2  How can Internet speed be increased by hacking...             0  \n",
       "3  Find the remainder when [math]23^{24}[/math] i...             0  \n",
       "4            Which fish would survive in salt water?             0  "
      ]
     },
     "execution_count": 7,
     "metadata": {},
     "output_type": "execute_result"
    }
   ],
   "source": [
    "df_train = pd.read_csv('data/train.csv')\n",
    "df_train = df_train.dropna() \n",
    "print(\"The training dataset has shape {}\".format(df_train.shape))\n",
    "df_train.head()"
   ]
  },
  {
   "cell_type": "code",
   "execution_count": 8,
   "metadata": {},
   "outputs": [],
   "source": [
    "target = 'is_duplicate'\n",
    "features = ['question1', 'question2']\n",
    "\n",
    "X = df_train[features].as_matrix()\n",
    "y = df_train[target].as_matrix()\n",
    "\n",
    "X_train, X_test, y_train, y_test = train_test_split(X, y, test_size=0.2, random_state=42)"
   ]
  },
  {
   "cell_type": "markdown",
   "metadata": {},
   "source": [
    "## Convert Data"
   ]
  },
  {
   "cell_type": "code",
   "execution_count": 71,
   "metadata": {},
   "outputs": [],
   "source": [
    "def row_to_vec(row):\n",
    "    \"\"\"\n",
    "    Return a [1, 2 * n_features] vector which is the concatenation of the word2vec vectors for the \n",
    "    two sentences (average of words)\n",
    "    \"\"\"\n",
    "#     q1 = tp.clean(row[0])\n",
    "#     q2 = tp.clean(row[1])\n",
    "    q1 = tp.tokenize(row[0])\n",
    "    q2 = tp.tokenize(row[1])\n",
    "    \n",
    "    q1_word_vectors = np.array([model.get_vector(word) for word in q1 if word in model.vocab])\n",
    "    q1_vec = np.mean(q1_word_vectors, axis=0) if len(q1_word_vectors) > 0 else np.zeros((300,))\n",
    "    \n",
    "    q2_word_vectors = np.array([model.get_vector(word) for word in q2 if word in model.vocab])\n",
    "    q2_vec = np.mean(q2_word_vectors, axis=0) if len(q2_word_vectors) > 0 else np.zeros((300,))\n",
    "    \n",
    "    \n",
    "    result = scipy.spatial.distance.cosine(q1_vec, q2_vec)\n",
    "    \n",
    "    return 0 if math.isnan(result) else result"
   ]
  },
  {
   "cell_type": "code",
   "execution_count": 72,
   "metadata": {},
   "outputs": [
    {
     "name": "stderr",
     "output_type": "stream",
     "text": [
      "/home/ec2-user/anaconda3/lib/python3.6/site-packages/scipy/spatial/distance.py:644: RuntimeWarning: invalid value encountered in double_scalars\n",
      "  dist = 1.0 - uv / np.sqrt(uu * vv)\n"
     ]
    },
    {
     "name": "stdout",
     "output_type": "stream",
     "text": [
      "CPU times: user 1min 50s, sys: 4 ms, total: 1min 50s\n",
      "Wall time: 1min 50s\n"
     ]
    }
   ],
   "source": [
    "%%time\n",
    "X_vec = np.apply_along_axis(row_to_vec, 1, X)"
   ]
  },
  {
   "cell_type": "code",
   "execution_count": 63,
   "metadata": {},
   "outputs": [],
   "source": [
    "pickle.dump( {'X_vec': X_vec, 'y_vec': y}, open( \"data/vec.dump\", \"wb\" ) )"
   ]
  },
  {
   "cell_type": "markdown",
   "metadata": {},
   "source": [
    "## SVM Classifier"
   ]
  },
  {
   "cell_type": "code",
   "execution_count": 73,
   "metadata": {},
   "outputs": [],
   "source": [
    "y_vec = y"
   ]
  },
  {
   "cell_type": "code",
   "execution_count": 74,
   "metadata": {},
   "outputs": [],
   "source": [
    "X_vec = X_vec.reshape((-1, 1))"
   ]
  },
  {
   "cell_type": "code",
   "execution_count": 80,
   "metadata": {},
   "outputs": [],
   "source": [
    "X_train, X_test, y_train, y_test = train_test_split(X_vec[:100000], y_vec[:100000], test_size=0.2, random_state=42)"
   ]
  },
  {
   "cell_type": "code",
   "execution_count": 81,
   "metadata": {},
   "outputs": [
    {
     "data": {
      "text/plain": [
       "False"
      ]
     },
     "execution_count": 81,
     "metadata": {},
     "output_type": "execute_result"
    }
   ],
   "source": [
    "np.isnan(X_train).any()"
   ]
  },
  {
   "cell_type": "code",
   "execution_count": 82,
   "metadata": {},
   "outputs": [
    {
     "data": {
      "text/plain": [
       "SVR(C=1.0, cache_size=200, coef0=0.0, degree=3, epsilon=0.2, gamma='auto',\n",
       "  kernel='rbf', max_iter=-1, shrinking=True, tol=0.001, verbose=False)"
      ]
     },
     "execution_count": 82,
     "metadata": {},
     "output_type": "execute_result"
    }
   ],
   "source": [
    "clf = SVR(C=1.0, epsilon=0.2)\n",
    "clf.fit(X_train, y_train)"
   ]
  },
  {
   "cell_type": "code",
   "execution_count": 83,
   "metadata": {},
   "outputs": [],
   "source": [
    "# from sklearn.naive_bayes import GaussianNB\n",
    "# gnb = GaussianNB()\n",
    "# gnb.fit(X_train, y_train)"
   ]
  },
  {
   "cell_type": "code",
   "execution_count": 84,
   "metadata": {},
   "outputs": [],
   "source": [
    "y_pred = clf.predict(X_test)"
   ]
  },
  {
   "cell_type": "code",
   "execution_count": 85,
   "metadata": {},
   "outputs": [
    {
     "data": {
      "text/plain": [
       "0.6150782784254385"
      ]
     },
     "execution_count": 85,
     "metadata": {},
     "output_type": "execute_result"
    }
   ],
   "source": [
    "log_loss(y_test, y_pred)"
   ]
  },
  {
   "cell_type": "code",
   "execution_count": 47,
   "metadata": {},
   "outputs": [
    {
     "data": {
      "text/plain": [
       "array([-3.46226171e-02,  1.72810882e-01,  2.16362849e-01,  1.57540217e-01,\n",
       "       -1.20761447e-01, -1.18353948e-01, -6.60671666e-02, -2.49332011e-01,\n",
       "        6.57569058e-03,  1.30706787e-01,  5.26767299e-02, -1.31174728e-01,\n",
       "        1.70670405e-01, -6.73149973e-02, -8.79160613e-02,  1.50193959e-01,\n",
       "        9.70052034e-02,  1.05501816e-01, -3.42305470e-03, -1.00865677e-01,\n",
       "       -5.12661412e-02,  2.61623800e-01,  2.50142422e-02, -7.23089650e-02,\n",
       "        6.33183569e-02, -9.33668315e-02, -2.42265284e-01,  1.75211579e-01,\n",
       "        5.50467148e-02,  9.87514928e-02,  2.81914603e-02, -7.71840364e-02,\n",
       "       -9.97721404e-02,  4.83487435e-02,  1.53913707e-01, -4.24728394e-02,\n",
       "       -1.53852671e-01, -1.24448147e-02,  1.99066162e-01,  1.28343329e-03,\n",
       "        4.65020090e-02, -7.25199357e-02, -1.09851412e-01,  1.56038068e-02,\n",
       "       -9.27543640e-02, -9.26096141e-02,  1.97431780e-02,  4.74183820e-02,\n",
       "        1.76018611e-01,  2.66018331e-01, -7.02243298e-03,  3.35726440e-01,\n",
       "       -5.45662791e-02, -4.81262207e-02, -1.27936471e-02, -3.26420479e-02,\n",
       "       -9.34024379e-02, -1.93192810e-01,  4.29484025e-02, -1.81377828e-01,\n",
       "       -1.24199122e-01,  2.73615532e-02, -9.16646272e-02, -2.75266856e-01,\n",
       "        3.89658585e-02, -3.79100367e-02,  5.56555837e-02,  1.39451772e-01,\n",
       "        1.81735143e-01, -1.67236328e-02,  2.61993408e-02, -1.44975353e-03,\n",
       "        1.32773504e-01,  8.63054097e-02, -2.35904276e-01, -1.65362462e-01,\n",
       "        6.16063029e-02, -4.57390696e-02, -6.92465007e-02,  2.26714239e-01,\n",
       "        5.48994280e-02, -7.90930837e-02,  9.18325856e-02, -2.83338763e-02,\n",
       "        3.34642194e-02, -1.31201744e-01, -1.00948758e-01,  1.15822688e-01,\n",
       "        8.89553502e-02,  4.94817123e-02,  1.13420278e-01,  4.44823354e-02,\n",
       "       -2.27598190e-01, -1.48558721e-01, -7.58230388e-02,  8.03036150e-03,\n",
       "        1.73926890e-01,  7.71145299e-02, -9.21554565e-02,  1.21124692e-01,\n",
       "       -8.35200697e-02,  5.50320968e-02,  1.22375488e-02, -2.25067139e-04,\n",
       "       -1.18529424e-01, -1.20015457e-01, -9.55064595e-02, -6.57814890e-02,\n",
       "       -7.27827251e-02, -2.31185913e-01,  2.42631696e-02,  1.77001953e-02,\n",
       "       -1.51190862e-01, -1.00212097e-02,  2.90069580e-01,  1.21359929e-01,\n",
       "        1.37307912e-01, -1.64004430e-01,  2.75804311e-01, -2.00949777e-02,\n",
       "       -2.64916748e-01, -2.04467773e-03, -9.82259065e-02,  1.31801605e-01,\n",
       "       -1.56192362e-01, -1.48479879e-01, -1.61425263e-01, -4.51812744e-02,\n",
       "       -7.01276958e-02,  8.61375630e-02, -9.70399678e-02, -2.54577637e-01,\n",
       "       -1.77039251e-01, -1.98479548e-01,  1.32849365e-01, -3.60907674e-01,\n",
       "        4.05515060e-02,  1.94161739e-02, -1.66612417e-01,  1.46069854e-01,\n",
       "        3.48896459e-02, -1.27966136e-01,  1.65155202e-01, -1.23532610e-02,\n",
       "       -4.77574691e-02,  2.03247070e-02,  6.78643137e-02, -4.24194336e-03,\n",
       "        2.97075920e-02,  1.35633163e-05,  2.54927337e-01,  1.90987915e-01,\n",
       "       -1.77781850e-01,  2.17664927e-01, -5.55979423e-02, -1.35377675e-01,\n",
       "       -4.98758964e-02, -1.77663177e-01,  8.14149678e-02, -1.10943899e-01,\n",
       "       -7.32137859e-02,  1.04520164e-01,  1.01200743e-02, -2.92324498e-02,\n",
       "        8.59425813e-02, -1.51697740e-01,  1.39892578e-01, -5.09893633e-02,\n",
       "       -1.68640986e-01,  8.15158337e-03, -1.13098145e-01, -1.54130727e-01,\n",
       "       -2.17183400e-03, -2.47100830e-01, -4.28256989e-02, -1.25257708e-02,\n",
       "        1.94129094e-01, -2.05865175e-01, -7.81928189e-03, -7.29660466e-02,\n",
       "       -7.56106898e-02, -3.88302281e-02, -4.85488027e-02, -9.91787389e-02,\n",
       "       -1.02125376e-01,  1.84343122e-02, -4.08434346e-02,  7.23665059e-02,\n",
       "        3.06169301e-01,  2.29102783e-02, -1.53020233e-01,  7.24597499e-02,\n",
       "        3.62820104e-02, -1.02912076e-03, -8.68547261e-02, -6.54686838e-02,\n",
       "       -6.70844167e-02, -4.16615829e-02, -2.11724173e-02, -3.34547251e-01,\n",
       "       -3.34370919e-02,  2.93816440e-03, -4.82347328e-04, -3.06108259e-02,\n",
       "       -1.45660400e-01, -4.89976667e-02, -7.93202687e-03, -1.05061851e-01,\n",
       "        2.39376068e-01, -8.92062709e-02,  2.39800345e-02,  2.20964216e-02,\n",
       "       -5.39317653e-02, -1.42110199e-01, -9.73794758e-02,  5.21490350e-03,\n",
       "        1.73814565e-01,  7.40937144e-02, -2.23809138e-01, -2.22528242e-02,\n",
       "        6.91935197e-02,  6.20947927e-02, -1.65926039e-01, -1.83580182e-02,\n",
       "        6.87662736e-02,  3.50748673e-02, -8.84950459e-02, -3.97737287e-02,\n",
       "       -2.16878261e-02,  3.07303537e-02, -1.34107843e-03, -3.10541783e-02,\n",
       "        1.31902069e-01,  4.08443883e-02,  1.22774437e-01, -5.52902222e-02,\n",
       "       -2.55218074e-02, -1.21549398e-01, -5.23003489e-02, -6.88468106e-03,\n",
       "        1.37683868e-01, -2.49777902e-02,  1.81983322e-01, -1.99927434e-01,\n",
       "       -1.86338633e-01, -7.56869838e-02,  2.27186410e-03,  4.22354788e-02,\n",
       "       -4.66126353e-02, -1.76109523e-01,  1.15834549e-01, -7.06660002e-02,\n",
       "        2.02148438e-01,  2.11221486e-01,  2.07013458e-01, -1.28919810e-01,\n",
       "       -7.17684403e-02,  1.42046601e-01, -2.71260560e-01, -6.51804637e-03,\n",
       "        1.48575246e-01,  3.71907577e-02,  5.65931527e-03,  8.23635533e-02,\n",
       "        1.61244720e-01,  1.94157496e-01, -1.64782200e-02, -3.88734601e-02,\n",
       "       -1.94268122e-01, -1.27546526e-02, -8.68123323e-02,  8.19015503e-02,\n",
       "        9.09610316e-02,  4.08087820e-02,  1.30313456e-01,  1.74458828e-02,\n",
       "       -2.36036517e-02, -2.22981781e-01, -1.81698263e-01, -1.26993820e-01,\n",
       "        5.43046519e-02, -6.19453862e-02, -1.46603063e-02,  2.09666356e-01,\n",
       "       -6.22845739e-02,  1.33028656e-01, -1.90219462e-01, -1.12252548e-01,\n",
       "       -2.74963379e-02,  6.71029612e-02, -1.82737976e-01,  9.37584788e-02,\n",
       "       -1.46630183e-01,  5.62472865e-02,  5.29479980e-02, -9.07007903e-02,\n",
       "       -5.00149205e-02,  7.40983784e-02, -1.02460220e-01, -1.50332972e-02],\n",
       "      dtype=float32)"
      ]
     },
     "execution_count": 47,
     "metadata": {},
     "output_type": "execute_result"
    }
   ],
   "source": [
    "X_test[0]"
   ]
  },
  {
   "cell_type": "code",
   "execution_count": null,
   "metadata": {},
   "outputs": [],
   "source": []
  }
 ],
 "metadata": {
  "kernelspec": {
   "display_name": "Python 3",
   "language": "python",
   "name": "python3"
  },
  "language_info": {
   "codemirror_mode": {
    "name": "ipython",
    "version": 3
   },
   "file_extension": ".py",
   "mimetype": "text/x-python",
   "name": "python",
   "nbconvert_exporter": "python",
   "pygments_lexer": "ipython3",
   "version": "3.6.4"
  }
 },
 "nbformat": 4,
 "nbformat_minor": 2
}
