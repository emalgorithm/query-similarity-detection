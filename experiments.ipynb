{
 "cells": [
  {
   "cell_type": "code",
   "execution_count": 2,
   "metadata": {},
   "outputs": [],
   "source": [
    "from queries_generation import generate_density_queries_pair\n",
    "from data_generation import generate_data\n",
    "\n",
    "from sklearn.manifold import TSNE\n",
    "from matplotlib import pyplot as plt\n",
    "import pandas as pd"
   ]
  },
  {
   "cell_type": "code",
   "execution_count": 6,
   "metadata": {},
   "outputs": [],
   "source": [
    "q1, q2 = generate_density_queries_pair()"
   ]
  },
  {
   "cell_type": "code",
   "execution_count": 3,
   "metadata": {},
   "outputs": [],
   "source": [
    "df = pd.read_csv('data/density_mobility_queries.csv')"
   ]
  },
  {
   "cell_type": "code",
   "execution_count": 4,
   "metadata": {},
   "outputs": [
    {
     "data": {
      "text/html": [
       "<div>\n",
       "<style scoped>\n",
       "    .dataframe tbody tr th:only-of-type {\n",
       "        vertical-align: middle;\n",
       "    }\n",
       "\n",
       "    .dataframe tbody tr th {\n",
       "        vertical-align: top;\n",
       "    }\n",
       "\n",
       "    .dataframe thead th {\n",
       "        text-align: right;\n",
       "    }\n",
       "</style>\n",
       "<table border=\"1\" class=\"dataframe\">\n",
       "  <thead>\n",
       "    <tr style=\"text-align: right;\">\n",
       "      <th></th>\n",
       "      <th>query_1</th>\n",
       "      <th>query_2</th>\n",
       "      <th>similar</th>\n",
       "    </tr>\n",
       "  </thead>\n",
       "  <tbody>\n",
       "    <tr>\n",
       "      <th>0</th>\n",
       "      <td>Query(algorithm_name = AlgorithmName.MOBILITY,...</td>\n",
       "      <td>Query(algorithm_name = AlgorithmName.MOBILITY,...</td>\n",
       "      <td>1</td>\n",
       "    </tr>\n",
       "    <tr>\n",
       "      <th>1</th>\n",
       "      <td>Query(algorithm_name = AlgorithmName.MOBILITY,...</td>\n",
       "      <td>Query(algorithm_name = AlgorithmName.MOBILITY,...</td>\n",
       "      <td>0</td>\n",
       "    </tr>\n",
       "    <tr>\n",
       "      <th>2</th>\n",
       "      <td>Query(algorithm_name = AlgorithmName.MOBILITY,...</td>\n",
       "      <td>Query(algorithm_name = AlgorithmName.MOBILITY,...</td>\n",
       "      <td>0</td>\n",
       "    </tr>\n",
       "    <tr>\n",
       "      <th>3</th>\n",
       "      <td>Query(algorithm_name = AlgorithmName.MOBILITY,...</td>\n",
       "      <td>Query(algorithm_name = AlgorithmName.MOBILITY,...</td>\n",
       "      <td>0</td>\n",
       "    </tr>\n",
       "    <tr>\n",
       "      <th>4</th>\n",
       "      <td>Query(algorithm_name = AlgorithmName.MOBILITY,...</td>\n",
       "      <td>Query(algorithm_name = AlgorithmName.MOBILITY,...</td>\n",
       "      <td>0</td>\n",
       "    </tr>\n",
       "    <tr>\n",
       "      <th>5</th>\n",
       "      <td>Query(algorithm_name = AlgorithmName.MOBILITY,...</td>\n",
       "      <td>Query(algorithm_name = AlgorithmName.MOBILITY,...</td>\n",
       "      <td>1</td>\n",
       "    </tr>\n",
       "    <tr>\n",
       "      <th>6</th>\n",
       "      <td>Query(algorithm_name = AlgorithmName.MOBILITY,...</td>\n",
       "      <td>Query(algorithm_name = AlgorithmName.MOBILITY,...</td>\n",
       "      <td>1</td>\n",
       "    </tr>\n",
       "    <tr>\n",
       "      <th>7</th>\n",
       "      <td>Query(algorithm_name = AlgorithmName.DENSITY, ...</td>\n",
       "      <td>Query(algorithm_name = AlgorithmName.DENSITY, ...</td>\n",
       "      <td>1</td>\n",
       "    </tr>\n",
       "    <tr>\n",
       "      <th>8</th>\n",
       "      <td>Query(algorithm_name = AlgorithmName.DENSITY, ...</td>\n",
       "      <td>Query(algorithm_name = AlgorithmName.DENSITY, ...</td>\n",
       "      <td>0</td>\n",
       "    </tr>\n",
       "    <tr>\n",
       "      <th>9</th>\n",
       "      <td>Query(algorithm_name = AlgorithmName.MOBILITY,...</td>\n",
       "      <td>Query(algorithm_name = AlgorithmName.MOBILITY,...</td>\n",
       "      <td>0</td>\n",
       "    </tr>\n",
       "  </tbody>\n",
       "</table>\n",
       "</div>"
      ],
      "text/plain": [
       "                                             query_1  \\\n",
       "0  Query(algorithm_name = AlgorithmName.MOBILITY,...   \n",
       "1  Query(algorithm_name = AlgorithmName.MOBILITY,...   \n",
       "2  Query(algorithm_name = AlgorithmName.MOBILITY,...   \n",
       "3  Query(algorithm_name = AlgorithmName.MOBILITY,...   \n",
       "4  Query(algorithm_name = AlgorithmName.MOBILITY,...   \n",
       "5  Query(algorithm_name = AlgorithmName.MOBILITY,...   \n",
       "6  Query(algorithm_name = AlgorithmName.MOBILITY,...   \n",
       "7  Query(algorithm_name = AlgorithmName.DENSITY, ...   \n",
       "8  Query(algorithm_name = AlgorithmName.DENSITY, ...   \n",
       "9  Query(algorithm_name = AlgorithmName.MOBILITY,...   \n",
       "\n",
       "                                             query_2  similar  \n",
       "0  Query(algorithm_name = AlgorithmName.MOBILITY,...        1  \n",
       "1  Query(algorithm_name = AlgorithmName.MOBILITY,...        0  \n",
       "2  Query(algorithm_name = AlgorithmName.MOBILITY,...        0  \n",
       "3  Query(algorithm_name = AlgorithmName.MOBILITY,...        0  \n",
       "4  Query(algorithm_name = AlgorithmName.MOBILITY,...        0  \n",
       "5  Query(algorithm_name = AlgorithmName.MOBILITY,...        1  \n",
       "6  Query(algorithm_name = AlgorithmName.MOBILITY,...        1  \n",
       "7  Query(algorithm_name = AlgorithmName.DENSITY, ...        1  \n",
       "8  Query(algorithm_name = AlgorithmName.DENSITY, ...        0  \n",
       "9  Query(algorithm_name = AlgorithmName.MOBILITY,...        0  "
      ]
     },
     "execution_count": 4,
     "metadata": {},
     "output_type": "execute_result"
    }
   ],
   "source": [
    "df.head(10)"
   ]
  },
  {
   "cell_type": "code",
   "execution_count": 6,
   "metadata": {},
   "outputs": [
    {
     "data": {
      "text/plain": [
       "[0, 1507708994, 1513225968, 0, 0, 0, 1, 0.908048790819926]"
      ]
     },
     "execution_count": 6,
     "metadata": {},
     "output_type": "execute_result"
    }
   ],
   "source": [
    "q1.encode()"
   ]
  },
  {
   "cell_type": "code",
   "execution_count": 8,
   "metadata": {},
   "outputs": [
    {
     "ename": "ValueError",
     "evalue": "'Modena' is not in list",
     "traceback": [
      "\u001b[0;31m---------------------------------------------------------------------------\u001b[0m",
      "\u001b[0;31mValueError\u001b[0m                                Traceback (most recent call last)",
      "\u001b[0;32m<ipython-input-8-c6ec864b8f42>\u001b[0m in \u001b[0;36m<module>\u001b[0;34m()\u001b[0m\n\u001b[0;32m----> 1\u001b[0;31m \u001b[0mgenerate_data\u001b[0m\u001b[0;34m(\u001b[0m\u001b[0;34m)\u001b[0m\u001b[0;34m\u001b[0m\u001b[0m\n\u001b[0m",
      "\u001b[0;32m~/query_similarity/data_generation.py\u001b[0m in \u001b[0;36mgenerate_data\u001b[0;34m(size)\u001b[0m\n\u001b[1;32m     14\u001b[0m         \u001b[0msimilar\u001b[0m \u001b[0;34m=\u001b[0m \u001b[0;32mTrue\u001b[0m\u001b[0;34m\u001b[0m\u001b[0m\n\u001b[1;32m     15\u001b[0m         \u001b[0mq1\u001b[0m\u001b[0;34m,\u001b[0m \u001b[0mq2\u001b[0m \u001b[0;34m=\u001b[0m \u001b[0mgenerate_density_queries_pair\u001b[0m\u001b[0;34m(\u001b[0m\u001b[0msimilar\u001b[0m\u001b[0;34m=\u001b[0m\u001b[0msimilar\u001b[0m\u001b[0;34m)\u001b[0m\u001b[0;34m\u001b[0m\u001b[0m\n\u001b[0;32m---> 16\u001b[0;31m         \u001b[0mdata\u001b[0m\u001b[0;34m.\u001b[0m\u001b[0mappend\u001b[0m\u001b[0;34m(\u001b[0m\u001b[0;34m[\u001b[0m\u001b[0mq1\u001b[0m\u001b[0;34m.\u001b[0m\u001b[0mencode\u001b[0m\u001b[0;34m(\u001b[0m\u001b[0;34m)\u001b[0m\u001b[0;34m,\u001b[0m \u001b[0mq2\u001b[0m\u001b[0;34m.\u001b[0m\u001b[0mencode\u001b[0m\u001b[0;34m(\u001b[0m\u001b[0;34m)\u001b[0m\u001b[0;34m,\u001b[0m \u001b[0mint\u001b[0m\u001b[0;34m(\u001b[0m\u001b[0msimilar\u001b[0m\u001b[0;34m)\u001b[0m\u001b[0;34m]\u001b[0m\u001b[0;34m)\u001b[0m\u001b[0;34m\u001b[0m\u001b[0m\n\u001b[0m\u001b[1;32m     17\u001b[0m \u001b[0;34m\u001b[0m\u001b[0m\n\u001b[1;32m     18\u001b[0m     \u001b[0;31m# Generate not similar mobility queries pair\u001b[0m\u001b[0;34m\u001b[0m\u001b[0;34m\u001b[0m\u001b[0m\n",
      "\u001b[0;32m~/query_similarity/query.py\u001b[0m in \u001b[0;36mencode\u001b[0;34m(self)\u001b[0m\n\u001b[1;32m     43\u001b[0m         \u001b[0mfirst_window_encoding\u001b[0m\u001b[0;34m,\u001b[0m \u001b[0msecond_window_encoding\u001b[0m \u001b[0;34m=\u001b[0m \u001b[0mself\u001b[0m\u001b[0;34m.\u001b[0m\u001b[0mencode_params\u001b[0m\u001b[0;34m(\u001b[0m\u001b[0mself\u001b[0m\u001b[0;34m.\u001b[0m\u001b[0mparams\u001b[0m\u001b[0;34m)\u001b[0m\u001b[0;34m\u001b[0m\u001b[0m\n\u001b[1;32m     44\u001b[0m         \u001b[0mresolution_encoding\u001b[0m \u001b[0;34m=\u001b[0m \u001b[0mself\u001b[0m\u001b[0;34m.\u001b[0m\u001b[0mencode_resolution\u001b[0m\u001b[0;34m(\u001b[0m\u001b[0mself\u001b[0m\u001b[0;34m.\u001b[0m\u001b[0mresolution\u001b[0m\u001b[0;34m)\u001b[0m\u001b[0;34m\u001b[0m\u001b[0m\n\u001b[0;32m---> 45\u001b[0;31m         \u001b[0mkey_selector_encoding\u001b[0m \u001b[0;34m=\u001b[0m \u001b[0mself\u001b[0m\u001b[0;34m.\u001b[0m\u001b[0mencode_key_selector\u001b[0m\u001b[0;34m(\u001b[0m\u001b[0mself\u001b[0m\u001b[0;34m.\u001b[0m\u001b[0mkey_selector\u001b[0m\u001b[0;34m)\u001b[0m\u001b[0;34m\u001b[0m\u001b[0m\n\u001b[0m\u001b[1;32m     46\u001b[0m         \u001b[0msample_encoding\u001b[0m \u001b[0;34m=\u001b[0m \u001b[0mself\u001b[0m\u001b[0;34m.\u001b[0m\u001b[0msample\u001b[0m\u001b[0;34m\u001b[0m\u001b[0m\n\u001b[1;32m     47\u001b[0m \u001b[0;34m\u001b[0m\u001b[0m\n",
      "\u001b[0;32m~/query_similarity/query.py\u001b[0m in \u001b[0;36mencode_key_selector\u001b[0;34m(self, key_selector)\u001b[0m\n\u001b[1;32m     65\u001b[0m \u001b[0;34m\u001b[0m\u001b[0m\n\u001b[1;32m     66\u001b[0m     \u001b[0;32mdef\u001b[0m \u001b[0mencode_key_selector\u001b[0m\u001b[0;34m(\u001b[0m\u001b[0mself\u001b[0m\u001b[0;34m,\u001b[0m \u001b[0mkey_selector\u001b[0m\u001b[0;34m)\u001b[0m\u001b[0;34m:\u001b[0m\u001b[0;34m\u001b[0m\u001b[0m\n\u001b[0;32m---> 67\u001b[0;31m         \u001b[0;32mif\u001b[0m \u001b[0mkey_selector\u001b[0m \u001b[0;32min\u001b[0m \u001b[0mConstants\u001b[0m\u001b[0;34m.\u001b[0m\u001b[0mLEVEL_1_LOCATIONS\u001b[0m\u001b[0;34m:\u001b[0m\u001b[0;34m\u001b[0m\u001b[0m\n\u001b[0m\u001b[1;32m     68\u001b[0m             \u001b[0;32mreturn\u001b[0m \u001b[0mConstants\u001b[0m\u001b[0;34m.\u001b[0m\u001b[0mLEVEL_1_LOCATIONS\u001b[0m\u001b[0;34m.\u001b[0m\u001b[0mindex\u001b[0m\u001b[0;34m(\u001b[0m\u001b[0mkey_selector\u001b[0m\u001b[0;34m)\u001b[0m\u001b[0;34m\u001b[0m\u001b[0m\n\u001b[1;32m     69\u001b[0m         \u001b[0;32melif\u001b[0m \u001b[0mkey_selector\u001b[0m \u001b[0;32min\u001b[0m \u001b[0mConstants\u001b[0m\u001b[0;34m.\u001b[0m\u001b[0mLEVEL_2_LOCATIONS\u001b[0m\u001b[0;34m:\u001b[0m\u001b[0;34m\u001b[0m\u001b[0m\n",
      "\u001b[0;31mValueError\u001b[0m: 'Modena' is not in list"
     ],
     "output_type": "error"
    }
   ],
   "source": [
    "generate_data()"
   ]
  },
  {
   "cell_type": "code",
   "execution_count": 2,
   "metadata": {},
   "outputs": [],
   "source": [
    "n = 100\n",
    "queries = generate_random_queries()\n",
    "query_vectors = [query.vectorize() for query in queries]"
   ]
  },
  {
   "cell_type": "code",
   "execution_count": 3,
   "metadata": {},
   "outputs": [
    {
     "data": {
      "text/plain": [
       "[[-947044021.494969, 1025473102.199212, 1, 2],\n",
       " [91110515.953458, 591302454.421079, 2, 1],\n",
       " [-792095646.814526, 537846599.210931, 1, 2],\n",
       " [841439457.897039, 1499276022.429374, 0, 2],\n",
       " [564999781.766238, 536605548.199474, 1, 1],\n",
       " [3510006.35532, 848971295.025891, 1, 2],\n",
       " [1290517985.574648, 1523016007.772505, 0, 2],\n",
       " [5236319.805844, 405248391.104539, 2, 1],\n",
       " [513149013.943026, 832878856.099261, 2, 2],\n",
       " [-1507497630.168834, -565464056.728842, 2, 0],\n",
       " [1247724019.822214, 1424309272.478907, 1, 2],\n",
       " [-1904198110.775407, 372050869.368858, 1, 0],\n",
       " [811669508.648904, 1516107213.832203, 1, 1],\n",
       " [-1162149446.714777, -974414198.305393, 0, 1],\n",
       " [-597167801.14831, 1315690408.662059, 1, 0],\n",
       " [715470067.061497, 787848694.645375, 2, 2],\n",
       " [-2055444472.444822, 548712844.461552, 2, 0],\n",
       " [1024405942.956251, 1112968408.245047, 0, 0],\n",
       " [624541310.785288, 955871358.84119, 0, 2],\n",
       " [242558407.80207, 1374948751.327152, 2, 0],\n",
       " [-1414633318.809092, 712915130.540874, 2, 2],\n",
       " [-1217293087.279156, -118682078.932256, 2, 0],\n",
       " [-2050359415.302159, -7683148.958535, 0, 1],\n",
       " [1131290007.389372, 1377364216.90407, 0, 2],\n",
       " [-1155253714.237849, 1159402384.967135, 0, 0],\n",
       " [1225172304.032612, 1392117485.637836, 2, 0],\n",
       " [1199456894.307656, 1202029514.634698, 2, 2],\n",
       " [757938262.609439, 848065705.608431, 0, 0],\n",
       " [-1901599032.915925, 653989365.446486, 2, 2],\n",
       " [-580998803.202222, -423849747.417772, 1, 2],\n",
       " [-862225799.375232, -414589754.507169, 1, 0],\n",
       " [-626000158.969776, -559477319.141154, 2, 1],\n",
       " [-4246734.802815, 60922523.106695, 0, 1],\n",
       " [-835049209.080204, 108968060.167011, 2, 2],\n",
       " [-1180314052.634807, -291142777.284662, 0, 2],\n",
       " [-505552620.697644, 427762301.037426, 0, 0],\n",
       " [-970594673.446515, 585112765.200439, 0, 2],\n",
       " [126250003.860239, 247903087.086694, 2, 1],\n",
       " [1031751523.122271, 1196304457.280186, 1, 2],\n",
       " [-1188303228.811581, 656790400.910323, 0, 0],\n",
       " [726199272.732876, 1191762430.31094, 1, 0],\n",
       " [-1685825169.770949, -1522570824.553829, 1, 2],\n",
       " [-986960810.020436, 32577695.099613, 1, 0],\n",
       " [931809952.42943, 932152838.132973, 1, 0],\n",
       " [-25739999.826046, 219064061.794556, 0, 1],\n",
       " [-621065218.477634, 424366755.666382, 2, 1],\n",
       " [-543367107.941256, 556989706.399855, 0, 0],\n",
       " [713806176.159649, 1538122372.725107, 1, 0],\n",
       " [-224127834.602285, 1391663290.008313, 1, 2],\n",
       " [-494001695.848791, 368519372.913049, 1, 0],\n",
       " [701793142.236144, 1534724505.235292, 2, 0],\n",
       " [494236719.783662, 1104773713.834605, 2, 2],\n",
       " [1151659396.850594, 1237079390.532211, 1, 2],\n",
       " [-474111071.342433, -411653175.838387, 0, 2],\n",
       " [-790622629.46992, 977825133.811839, 0, 1],\n",
       " [-330795714.583799, -14297661.511806, 0, 0],\n",
       " [309615546.300131, 1048856960.784725, 0, 0],\n",
       " [16135403.941548, 1436604993.115097, 2, 0],\n",
       " [-539116623.848432, 1405696761.851484, 1, 2],\n",
       " [-1481210154.415534, 746645860.025706, 0, 1],\n",
       " [-1225245449.479126, 829236578.179483, 1, 2],\n",
       " [1331864364.688504, 1374149976.120743, 0, 0],\n",
       " [-1905111695.539203, -1450489159.440397, 1, 1],\n",
       " [-324895979.424101, 423874417.01508, 0, 1],\n",
       " [748779029.022735, 928475061.554803, 1, 1],\n",
       " [-2145568450.932398, -1628550914.8124, 2, 2],\n",
       " [-1602006433.320888, -683808565.355265, 1, 0],\n",
       " [-1027374456.423435, 203747954.255237, 0, 1],\n",
       " [112867123.153845, 1255602103.677509, 1, 0],\n",
       " [-446517286.063187, 196557403.097686, 0, 1],\n",
       " [347422201.334205, 1412223349.445296, 1, 2],\n",
       " [-1214853854.593657, 1220046531.513598, 0, 1],\n",
       " [-2086701642.403159, 1219016773.516483, 2, 0],\n",
       " [1145249088.527749, 1521462278.068781, 1, 1],\n",
       " [1500246804.078423, 1511712095.913168, 1, 2],\n",
       " [791333975.824386, 1099649123.286129, 1, 2],\n",
       " [561849643.483004, 977385346.221459, 1, 2],\n",
       " [-1954442706.755039, -629907118.938655, 0, 0],\n",
       " [-1242665545.265707, -284752046.555405, 1, 2],\n",
       " [-1590230942.606183, 771674388.177273, 1, 2],\n",
       " [-945559244.346021, 1341551428.267587, 2, 1],\n",
       " [-1327794185.185665, -622441848.995444, 0, 2],\n",
       " [-477731811.527037, 1375710493.217981, 2, 1],\n",
       " [-696691057.142558, 974766746.464861, 0, 2],\n",
       " [-147154905.021129, 472971360.377228, 0, 2],\n",
       " [-1051260229.058858, -715731477.865947, 0, 2],\n",
       " [524650930.745435, 1449348424.916567, 1, 0],\n",
       " [-770161163.184853, -691869837.161715, 1, 1],\n",
       " [-314295119.292429, 402015696.904264, 0, 1],\n",
       " [-1980917208.850436, 1165087266.345631, 2, 0],\n",
       " [-511041923.866584, 888690725.558223, 2, 0],\n",
       " [1188973610.504974, 1425727269.86698, 2, 2],\n",
       " [612127619.576768, 736019109.459872, 1, 2],\n",
       " [-2062882322.864286, -337195131.88871, 2, 2],\n",
       " [1194173528.020324, 1240745073.191971, 1, 1],\n",
       " [1076775518.315173, 1225383481.101234, 0, 0],\n",
       " [995991557.225582, 1416252394.587171, 2, 0],\n",
       " [-84884398.211825, 1515295975.734409, 0, 1],\n",
       " [-1140962821.747345, 1515549516.922599, 1, 0],\n",
       " [1410776732.615582, 1505389896.015702, 0, 1]]"
      ]
     },
     "execution_count": 3,
     "metadata": {},
     "output_type": "execute_result"
    }
   ],
   "source": [
    "query_vectors"
   ]
  },
  {
   "cell_type": "code",
   "execution_count": 8,
   "metadata": {},
   "outputs": [
    {
     "ename": "TypeError",
     "evalue": "You must first set_array for mappable",
     "traceback": [
      "\u001b[0;31m---------------------------------------------------------------------------\u001b[0m",
      "\u001b[0;31mTypeError\u001b[0m                                 Traceback (most recent call last)",
      "\u001b[0;32m<ipython-input-8-7476abee65ff>\u001b[0m in \u001b[0;36m<module>\u001b[0;34m()\u001b[0m\n\u001b[1;32m      7\u001b[0m \u001b[0;34m\u001b[0m\u001b[0m\n\u001b[1;32m      8\u001b[0m \u001b[0mplt\u001b[0m\u001b[0;34m.\u001b[0m\u001b[0mscatter\u001b[0m\u001b[0;34m(\u001b[0m\u001b[0mvis_x\u001b[0m\u001b[0;34m,\u001b[0m \u001b[0mvis_y\u001b[0m\u001b[0;34m,\u001b[0m \u001b[0mcmap\u001b[0m\u001b[0;34m=\u001b[0m\u001b[0mplt\u001b[0m\u001b[0;34m.\u001b[0m\u001b[0mcm\u001b[0m\u001b[0;34m.\u001b[0m\u001b[0mget_cmap\u001b[0m\u001b[0;34m(\u001b[0m\u001b[0;34m\"jet\"\u001b[0m\u001b[0;34m,\u001b[0m \u001b[0;36m10\u001b[0m\u001b[0;34m)\u001b[0m\u001b[0;34m)\u001b[0m\u001b[0;34m\u001b[0m\u001b[0m\n\u001b[0;32m----> 9\u001b[0;31m \u001b[0mplt\u001b[0m\u001b[0;34m.\u001b[0m\u001b[0mcolorbar\u001b[0m\u001b[0;34m(\u001b[0m\u001b[0mticks\u001b[0m\u001b[0;34m=\u001b[0m\u001b[0mrange\u001b[0m\u001b[0;34m(\u001b[0m\u001b[0;36m10\u001b[0m\u001b[0;34m)\u001b[0m\u001b[0;34m)\u001b[0m\u001b[0;34m\u001b[0m\u001b[0m\n\u001b[0m\u001b[1;32m     10\u001b[0m \u001b[0mplt\u001b[0m\u001b[0;34m.\u001b[0m\u001b[0mclim\u001b[0m\u001b[0;34m(\u001b[0m\u001b[0;34m-\u001b[0m\u001b[0;36m0.5\u001b[0m\u001b[0;34m,\u001b[0m \u001b[0;36m9.5\u001b[0m\u001b[0;34m)\u001b[0m\u001b[0;34m\u001b[0m\u001b[0m\n\u001b[1;32m     11\u001b[0m \u001b[0mplt\u001b[0m\u001b[0;34m.\u001b[0m\u001b[0mshow\u001b[0m\u001b[0;34m(\u001b[0m\u001b[0;34m)\u001b[0m\u001b[0;34m\u001b[0m\u001b[0m\n",
      "\u001b[0;32m/usr/local/lib/python3.6/site-packages/matplotlib/pyplot.py\u001b[0m in \u001b[0;36mcolorbar\u001b[0;34m(mappable, cax, ax, **kw)\u001b[0m\n\u001b[1;32m   2199\u001b[0m         \u001b[0max\u001b[0m \u001b[0;34m=\u001b[0m \u001b[0mgca\u001b[0m\u001b[0;34m(\u001b[0m\u001b[0;34m)\u001b[0m\u001b[0;34m\u001b[0m\u001b[0m\n\u001b[1;32m   2200\u001b[0m \u001b[0;34m\u001b[0m\u001b[0m\n\u001b[0;32m-> 2201\u001b[0;31m     \u001b[0mret\u001b[0m \u001b[0;34m=\u001b[0m \u001b[0mgcf\u001b[0m\u001b[0;34m(\u001b[0m\u001b[0;34m)\u001b[0m\u001b[0;34m.\u001b[0m\u001b[0mcolorbar\u001b[0m\u001b[0;34m(\u001b[0m\u001b[0mmappable\u001b[0m\u001b[0;34m,\u001b[0m \u001b[0mcax\u001b[0m \u001b[0;34m=\u001b[0m \u001b[0mcax\u001b[0m\u001b[0;34m,\u001b[0m \u001b[0max\u001b[0m\u001b[0;34m=\u001b[0m\u001b[0max\u001b[0m\u001b[0;34m,\u001b[0m \u001b[0;34m**\u001b[0m\u001b[0mkw\u001b[0m\u001b[0;34m)\u001b[0m\u001b[0;34m\u001b[0m\u001b[0m\n\u001b[0m\u001b[1;32m   2202\u001b[0m     \u001b[0;32mreturn\u001b[0m \u001b[0mret\u001b[0m\u001b[0;34m\u001b[0m\u001b[0m\n\u001b[1;32m   2203\u001b[0m \u001b[0mcolorbar\u001b[0m\u001b[0;34m.\u001b[0m\u001b[0m__doc__\u001b[0m \u001b[0;34m=\u001b[0m \u001b[0mmatplotlib\u001b[0m\u001b[0;34m.\u001b[0m\u001b[0mcolorbar\u001b[0m\u001b[0;34m.\u001b[0m\u001b[0mcolorbar_doc\u001b[0m\u001b[0;34m\u001b[0m\u001b[0m\n",
      "\u001b[0;32m/usr/local/lib/python3.6/site-packages/matplotlib/figure.py\u001b[0m in \u001b[0;36mcolorbar\u001b[0;34m(self, mappable, cax, ax, use_gridspec, **kw)\u001b[0m\n\u001b[1;32m   1862\u001b[0m                 \u001b[0mcax\u001b[0m\u001b[0;34m,\u001b[0m \u001b[0mkw\u001b[0m \u001b[0;34m=\u001b[0m \u001b[0mcbar\u001b[0m\u001b[0;34m.\u001b[0m\u001b[0mmake_axes\u001b[0m\u001b[0;34m(\u001b[0m\u001b[0max\u001b[0m\u001b[0;34m,\u001b[0m \u001b[0;34m**\u001b[0m\u001b[0mkw\u001b[0m\u001b[0;34m)\u001b[0m\u001b[0;34m\u001b[0m\u001b[0m\n\u001b[1;32m   1863\u001b[0m         \u001b[0mcax\u001b[0m\u001b[0;34m.\u001b[0m\u001b[0m_hold\u001b[0m \u001b[0;34m=\u001b[0m \u001b[0;32mTrue\u001b[0m\u001b[0;34m\u001b[0m\u001b[0m\n\u001b[0;32m-> 1864\u001b[0;31m         \u001b[0mcb\u001b[0m \u001b[0;34m=\u001b[0m \u001b[0mcbar\u001b[0m\u001b[0;34m.\u001b[0m\u001b[0mcolorbar_factory\u001b[0m\u001b[0;34m(\u001b[0m\u001b[0mcax\u001b[0m\u001b[0;34m,\u001b[0m \u001b[0mmappable\u001b[0m\u001b[0;34m,\u001b[0m \u001b[0;34m**\u001b[0m\u001b[0mkw\u001b[0m\u001b[0;34m)\u001b[0m\u001b[0;34m\u001b[0m\u001b[0m\n\u001b[0m\u001b[1;32m   1865\u001b[0m \u001b[0;34m\u001b[0m\u001b[0m\n\u001b[1;32m   1866\u001b[0m         \u001b[0mself\u001b[0m\u001b[0;34m.\u001b[0m\u001b[0msca\u001b[0m\u001b[0;34m(\u001b[0m\u001b[0mcurrent_ax\u001b[0m\u001b[0;34m)\u001b[0m\u001b[0;34m\u001b[0m\u001b[0m\n",
      "\u001b[0;32m/usr/local/lib/python3.6/site-packages/matplotlib/colorbar.py\u001b[0m in \u001b[0;36mcolorbar_factory\u001b[0;34m(cax, mappable, **kwargs)\u001b[0m\n\u001b[1;32m   1366\u001b[0m         \u001b[0mcb\u001b[0m \u001b[0;34m=\u001b[0m \u001b[0mColorbarPatch\u001b[0m\u001b[0;34m(\u001b[0m\u001b[0mcax\u001b[0m\u001b[0;34m,\u001b[0m \u001b[0mmappable\u001b[0m\u001b[0;34m,\u001b[0m \u001b[0;34m**\u001b[0m\u001b[0mkwargs\u001b[0m\u001b[0;34m)\u001b[0m\u001b[0;34m\u001b[0m\u001b[0m\n\u001b[1;32m   1367\u001b[0m     \u001b[0;32melse\u001b[0m\u001b[0;34m:\u001b[0m\u001b[0;34m\u001b[0m\u001b[0m\n\u001b[0;32m-> 1368\u001b[0;31m         \u001b[0mcb\u001b[0m \u001b[0;34m=\u001b[0m \u001b[0mColorbar\u001b[0m\u001b[0;34m(\u001b[0m\u001b[0mcax\u001b[0m\u001b[0;34m,\u001b[0m \u001b[0mmappable\u001b[0m\u001b[0;34m,\u001b[0m \u001b[0;34m**\u001b[0m\u001b[0mkwargs\u001b[0m\u001b[0;34m)\u001b[0m\u001b[0;34m\u001b[0m\u001b[0m\n\u001b[0m\u001b[1;32m   1369\u001b[0m \u001b[0;34m\u001b[0m\u001b[0m\n\u001b[1;32m   1370\u001b[0m     \u001b[0mcid\u001b[0m \u001b[0;34m=\u001b[0m \u001b[0mmappable\u001b[0m\u001b[0;34m.\u001b[0m\u001b[0mcallbacksSM\u001b[0m\u001b[0;34m.\u001b[0m\u001b[0mconnect\u001b[0m\u001b[0;34m(\u001b[0m\u001b[0;34m'changed'\u001b[0m\u001b[0;34m,\u001b[0m \u001b[0mcb\u001b[0m\u001b[0;34m.\u001b[0m\u001b[0mon_mappable_changed\u001b[0m\u001b[0;34m)\u001b[0m\u001b[0;34m\u001b[0m\u001b[0m\n",
      "\u001b[0;32m/usr/local/lib/python3.6/site-packages/matplotlib/colorbar.py\u001b[0m in \u001b[0;36m__init__\u001b[0;34m(self, ax, mappable, **kw)\u001b[0m\n\u001b[1;32m    919\u001b[0m         \u001b[0;31m# Ensure the given mappable's norm has appropriate vmin and vmax set\u001b[0m\u001b[0;34m\u001b[0m\u001b[0;34m\u001b[0m\u001b[0m\n\u001b[1;32m    920\u001b[0m         \u001b[0;31m# even if mappable.draw has not yet been called.\u001b[0m\u001b[0;34m\u001b[0m\u001b[0;34m\u001b[0m\u001b[0m\n\u001b[0;32m--> 921\u001b[0;31m         \u001b[0mmappable\u001b[0m\u001b[0;34m.\u001b[0m\u001b[0mautoscale_None\u001b[0m\u001b[0;34m(\u001b[0m\u001b[0;34m)\u001b[0m\u001b[0;34m\u001b[0m\u001b[0m\n\u001b[0m\u001b[1;32m    922\u001b[0m \u001b[0;34m\u001b[0m\u001b[0m\n\u001b[1;32m    923\u001b[0m         \u001b[0mself\u001b[0m\u001b[0;34m.\u001b[0m\u001b[0mmappable\u001b[0m \u001b[0;34m=\u001b[0m \u001b[0mmappable\u001b[0m\u001b[0;34m\u001b[0m\u001b[0m\n",
      "\u001b[0;32m/usr/local/lib/python3.6/site-packages/matplotlib/cm.py\u001b[0m in \u001b[0;36mautoscale_None\u001b[0;34m(self)\u001b[0m\n\u001b[1;32m    362\u001b[0m         \"\"\"\n\u001b[1;32m    363\u001b[0m         \u001b[0;32mif\u001b[0m \u001b[0mself\u001b[0m\u001b[0;34m.\u001b[0m\u001b[0m_A\u001b[0m \u001b[0;32mis\u001b[0m \u001b[0;32mNone\u001b[0m\u001b[0;34m:\u001b[0m\u001b[0;34m\u001b[0m\u001b[0m\n\u001b[0;32m--> 364\u001b[0;31m             \u001b[0;32mraise\u001b[0m \u001b[0mTypeError\u001b[0m\u001b[0;34m(\u001b[0m\u001b[0;34m'You must first set_array for mappable'\u001b[0m\u001b[0;34m)\u001b[0m\u001b[0;34m\u001b[0m\u001b[0m\n\u001b[0m\u001b[1;32m    365\u001b[0m         \u001b[0mself\u001b[0m\u001b[0;34m.\u001b[0m\u001b[0mnorm\u001b[0m\u001b[0;34m.\u001b[0m\u001b[0mautoscale_None\u001b[0m\u001b[0;34m(\u001b[0m\u001b[0mself\u001b[0m\u001b[0;34m.\u001b[0m\u001b[0m_A\u001b[0m\u001b[0;34m)\u001b[0m\u001b[0;34m\u001b[0m\u001b[0m\n\u001b[1;32m    366\u001b[0m         \u001b[0mself\u001b[0m\u001b[0;34m.\u001b[0m\u001b[0mchanged\u001b[0m\u001b[0;34m(\u001b[0m\u001b[0;34m)\u001b[0m\u001b[0;34m\u001b[0m\u001b[0m\n",
      "\u001b[0;31mTypeError\u001b[0m: You must first set_array for mappable"
     ],
     "output_type": "error"
    },
    {
     "data": {
      "image/png": "[encoded data removed]",
      "text/plain": [
       "<matplotlib.figure.Figure at 0x10d0a3438>"
      ]
     },
     "metadata": {},
     "output_type": "display_data"
    }
   ],
   "source": [
    "# perform t-SNE embedding\n",
    "embedded_queries = TSNE(n_components=2).fit_transform(query_vectors)\n",
    "\n",
    "# plot the result\n",
    "vis_x = embedded_queries[:, 0]\n",
    "vis_y = embedded_queries[:, 1]\n",
    "\n",
    "plt.scatter(vis_x, vis_y, cmap=plt.cm.get_cmap(\"jet\", 10))\n",
    "plt.colorbar(ticks=range(10))\n",
    "plt.clim(-0.5, 9.5)\n",
    "plt.show()"
   ]
  },
  {
   "cell_type": "code",
   "execution_count": 1,
   "metadata": {},
   "outputs": [],
   "source": [
    "import time\n",
    "import datetime"
   ]
  },
  {
   "cell_type": "code",
   "execution_count": 5,
   "metadata": {},
   "outputs": [
    {
     "data": {
      "text/plain": [
       "1322802000"
      ]
     },
     "execution_count": 5,
     "metadata": {},
     "output_type": "execute_result"
    }
   ],
   "source": [
    "s = \"02/12/2011\"\n",
    "int(datetime.datetime.strptime(s, \"%d/%m/%Y\").timestamp())"
   ]
  },
  {
   "cell_type": "code",
   "execution_count": null,
   "metadata": {},
   "outputs": [],
   "source": [
    ""
   ]
  }
 ],
 "metadata": {
  "kernelspec": {
   "display_name": "Python 3",
   "language": "python",
   "name": "python3"
  },
  "language_info": {
   "codemirror_mode": {
    "name": "ipython",
    "version": 3.0
   },
   "file_extension": ".py",
   "mimetype": "text/x-python",
   "name": "python",
   "nbconvert_exporter": "python",
   "pygments_lexer": "ipython3",
   "version": "3.6.4"
  }
 },
 "nbformat": 4,
 "nbformat_minor": 0
}